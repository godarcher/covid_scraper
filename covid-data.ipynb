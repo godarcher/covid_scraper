{
 "cells": [
  {
   "cell_type": "markdown",
   "metadata": {},
   "source": [
    "Eerst installeren we covid (mocht dit nog niet geinstalleerd zijn)"
   ]
  },
  {
   "cell_type": "code",
   "execution_count": 14,
   "metadata": {
    "scrolled": false
   },
   "outputs": [
    {
     "name": "stdout",
     "output_type": "stream",
     "text": [
      "Requirement already satisfied: covid in c:\\users\\josso\\anaconda3\\lib\\site-packages (2.4.0)\n",
      "Requirement already satisfied: pydantic in c:\\users\\josso\\anaconda3\\lib\\site-packages (from covid) (1.7.3)\n",
      "Requirement already satisfied: typer in c:\\users\\josso\\anaconda3\\lib\\site-packages (from covid) (0.3.2)\n",
      "Requirement already satisfied: beautifulsoup4 in c:\\users\\josso\\anaconda3\\lib\\site-packages (from covid) (4.9.3)\n",
      "Requirement already satisfied: requests in c:\\users\\josso\\anaconda3\\lib\\site-packages (from covid) (2.24.0)\n",
      "Requirement already satisfied: click<7.2.0,>=7.1.1 in c:\\users\\josso\\anaconda3\\lib\\site-packages (from typer->covid) (7.1.2)\n",
      "Requirement already satisfied: soupsieve>1.2; python_version >= \"3.0\" in c:\\users\\josso\\anaconda3\\lib\\site-packages (from beautifulsoup4->covid) (2.0.1)\n",
      "Requirement already satisfied: idna<3,>=2.5 in c:\\users\\josso\\anaconda3\\lib\\site-packages (from requests->covid) (2.10)\n",
      "Requirement already satisfied: certifi>=2017.4.17 in c:\\users\\josso\\anaconda3\\lib\\site-packages (from requests->covid) (2020.6.20)\n",
      "Requirement already satisfied: urllib3!=1.25.0,!=1.25.1,<1.26,>=1.21.1 in c:\\users\\josso\\anaconda3\\lib\\site-packages (from requests->covid) (1.25.11)\n",
      "Requirement already satisfied: chardet<4,>=3.0.2 in c:\\users\\josso\\anaconda3\\lib\\site-packages (from requests->covid) (3.0.4)\n"
     ]
    }
   ],
   "source": [
    "!pip install covid"
   ]
  },
  {
   "cell_type": "code",
   "execution_count": 15,
   "metadata": {},
   "outputs": [],
   "source": [
    "from covid import Covid\n",
    "covid = Covid()"
   ]
  },
  {
   "cell_type": "code",
   "execution_count": 16,
   "metadata": {},
   "outputs": [],
   "source": [
    "# initializing integers to work with data\n",
    "confirmed_cases = covid.get_total_confirmed_cases()\n",
    "active_cases = covid.get_total_active_cases()\n",
    "recovered_cases = covid.get_total_recovered()\n",
    "total_deaths = covid.get_total_deaths()"
   ]
  },
  {
   "cell_type": "code",
   "execution_count": 17,
   "metadata": {},
   "outputs": [
    {
     "name": "stdout",
     "output_type": "stream",
     "text": [
      "\n",
      "Total confirmed cases in world: 106377695\n",
      "Total active cases in world: 44690676\n",
      "Total recovered cases in world: 59303299\n",
      "Total deaths in world: 2320720\n"
     ]
    }
   ],
   "source": [
    "# Printing global data\n",
    "print(\"Total confirmed cases in world:\", confirmed_cases)\n",
    "print(\"Total active cases in world:\", active_cases)\n",
    "print(\"Total recovered cases in world:\", recovered_cases)\n",
    "print(\"Total deaths in world:\", total_deaths)\n"
   ]
  },
  {
   "cell_type": "code",
   "execution_count": 18,
   "metadata": {},
   "outputs": [
    {
     "name": "stdout",
     "output_type": "stream",
     "text": [
      " Volume in drive C has no label.\n",
      " Volume Serial Number is 1E18-854D\n",
      "\n",
      " Directory of C:\\Users\\Josso\n",
      "\n",
      "08-02-2021  20:43    <DIR>          .\n",
      "08-02-2021  20:43    <DIR>          ..\n",
      "05-12-2020  11:31    <DIR>          .allennlp\n",
      "08-02-2021  20:43    <DIR>          .conda\n",
      "08-02-2021  19:47                43 .condarc\n",
      "03-02-2021  12:28               149 .digital.cfg\n",
      "12-05-2020  10:52    <DIR>          .dotnet\n",
      "15-01-2021  14:52                67 .gitconfig\n",
      "26-06-2020  11:37    <DIR>          .idlerc\n",
      "08-02-2021  20:43    <DIR>          .ipynb_checkpoints\n",
      "08-02-2021  19:52    <DIR>          .ipython\n",
      "08-02-2021  20:04    <DIR>          .jupyter\n",
      "05-12-2020  11:31    <DIR>          .matplotlib\n",
      "26-01-2021  10:25    <DIR>          .nbi\n",
      "22-05-2020  16:34    <DIR>          .nuget\n",
      "06-02-2021  10:31    <DIR>          .omnisharp\n",
      "22-05-2020  16:34    <DIR>          .templateengine\n",
      "14-05-2020  13:25    <DIR>          .thumbnails\n",
      "26-01-2021  10:28    <DIR>          .tooling\n",
      "15-01-2021  13:11    <DIR>          .vscode\n",
      "08-02-2021  19:21    <DIR>          anaconda3\n",
      "11-09-2020  16:11    <DIR>          Contacts\n",
      "08-02-2021  20:43             3.725 covid-data.ipynb\n",
      "23-01-2021  12:24    <DIR>          Desktop\n",
      "08-02-2021  19:21    <DIR>          Documents\n",
      "08-02-2021  19:18    <DIR>          Downloads\n",
      "11-09-2020  16:11    <DIR>          Favorites\n",
      "02-02-2021  12:02             1.681 finds\n",
      "11-09-2020  16:11    <DIR>          Links\n",
      "11-09-2020  16:11    <DIR>          Music\n",
      "04-05-2020  12:04             1.464 new 4\n",
      "20-07-2020  12:36    <DIR>          opencvinput\n",
      "08-02-2021  15:53    <DIR>          Pictures\n",
      "04-05-2020  12:59             3.355 proxys\n",
      "29-06-2020  13:31    <DIR>          rotatorinput\n",
      "11-09-2020  16:11    <DIR>          Saved Games\n",
      "11-09-2020  16:11    <DIR>          Searches\n",
      "13-05-2020  13:47    <DIR>          source\n",
      "08-02-2021  20:39             1.293 Untitled.ipynb\n",
      "08-02-2021  20:41             4.103 Untitled1.ipynb\n",
      "11-09-2020  16:11    <DIR>          Videos\n",
      "               9 File(s)         15.880 bytes\n",
      "              32 Dir(s)  91.982.270.464 bytes free\n"
     ]
    }
   ],
   "source": [
    "ls"
   ]
  },
  {
   "cell_type": "code",
   "execution_count": null,
   "metadata": {},
   "outputs": [],
   "source": []
  }
 ],
 "metadata": {
  "kernelspec": {
   "display_name": "Python 3",
   "language": "python",
   "name": "python3"
  },
  "language_info": {
   "codemirror_mode": {
    "name": "ipython",
    "version": 3
   },
   "file_extension": ".py",
   "mimetype": "text/x-python",
   "name": "python",
   "nbconvert_exporter": "python",
   "pygments_lexer": "ipython3",
   "version": "3.8.5"
  }
 },
 "nbformat": 4,
 "nbformat_minor": 4
}
