{
 "cells": [
  {
   "cell_type": "code",
   "execution_count": 2,
   "metadata": {},
   "outputs": [
    {
     "output_type": "stream",
     "name": "stdout",
     "text": [
      "Requirement already satisfied: covid in c:\\users\\josso\\anaconda3\\lib\\site-packages (2.4.0)\n",
      "Requirement already satisfied: pydantic in c:\\users\\josso\\anaconda3\\lib\\site-packages (from covid) (1.7.3)\n",
      "Requirement already satisfied: beautifulsoup4 in c:\\users\\josso\\anaconda3\\lib\\site-packages (from covid) (4.9.3)\n",
      "Requirement already satisfied: requests in c:\\users\\josso\\anaconda3\\lib\\site-packages (from covid) (2.24.0)\n",
      "Requirement already satisfied: typer in c:\\users\\josso\\anaconda3\\lib\\site-packages (from covid) (0.3.2)\n",
      "Requirement already satisfied: soupsieve>1.2; python_version >= \"3.0\" in c:\\users\\josso\\anaconda3\\lib\\site-packages (from beautifulsoup4->covid) (2.0.1)\n",
      "Requirement already satisfied: idna<3,>=2.5 in c:\\users\\josso\\anaconda3\\lib\\site-packages (from requests->covid) (2.10)\n",
      "Requirement already satisfied: certifi>=2017.4.17 in c:\\users\\josso\\anaconda3\\lib\\site-packages (from requests->covid) (2020.6.20)\n",
      "Requirement already satisfied: chardet<4,>=3.0.2 in c:\\users\\josso\\anaconda3\\lib\\site-packages (from requests->covid) (3.0.4)\n",
      "Requirement already satisfied: urllib3!=1.25.0,!=1.25.1,<1.26,>=1.21.1 in c:\\users\\josso\\anaconda3\\lib\\site-packages (from requests->covid) (1.25.11)\n",
      "Requirement already satisfied: click<7.2.0,>=7.1.1 in c:\\users\\josso\\anaconda3\\lib\\site-packages (from typer->covid) (7.1.2)\n",
      "Requirement already satisfied: seaborn in c:\\users\\josso\\anaconda3\\lib\\site-packages (0.11.0)\n",
      "Requirement already satisfied: numpy>=1.15 in c:\\users\\josso\\anaconda3\\lib\\site-packages (from seaborn) (1.19.2)\n",
      "Requirement already satisfied: matplotlib>=2.2 in c:\\users\\josso\\anaconda3\\lib\\site-packages (from seaborn) (3.3.2)\n",
      "Requirement already satisfied: pandas>=0.23 in c:\\users\\josso\\anaconda3\\lib\\site-packages (from seaborn) (1.1.3)\n",
      "Requirement already satisfied: scipy>=1.0 in c:\\users\\josso\\anaconda3\\lib\\site-packages (from seaborn) (1.5.2)\n",
      "Requirement already satisfied: kiwisolver>=1.0.1 in c:\\users\\josso\\anaconda3\\lib\\site-packages (from matplotlib>=2.2->seaborn) (1.3.0)\n",
      "Requirement already satisfied: pyparsing!=2.0.4,!=2.1.2,!=2.1.6,>=2.0.3 in c:\\users\\josso\\anaconda3\\lib\\site-packages (from matplotlib>=2.2->seaborn) (2.4.7)\n",
      "Requirement already satisfied: python-dateutil>=2.1 in c:\\users\\josso\\anaconda3\\lib\\site-packages (from matplotlib>=2.2->seaborn) (2.8.1)\n",
      "Requirement already satisfied: cycler>=0.10 in c:\\users\\josso\\anaconda3\\lib\\site-packages (from matplotlib>=2.2->seaborn) (0.10.0)\n",
      "Requirement already satisfied: pillow>=6.2.0 in c:\\users\\josso\\anaconda3\\lib\\site-packages (from matplotlib>=2.2->seaborn) (8.0.1)\n",
      "Requirement already satisfied: certifi>=2020.06.20 in c:\\users\\josso\\anaconda3\\lib\\site-packages (from matplotlib>=2.2->seaborn) (2020.6.20)\n",
      "Requirement already satisfied: pytz>=2017.2 in c:\\users\\josso\\anaconda3\\lib\\site-packages (from pandas>=0.23->seaborn) (2020.1)\n",
      "Requirement already satisfied: six>=1.5 in c:\\users\\josso\\anaconda3\\lib\\site-packages (from python-dateutil>=2.1->matplotlib>=2.2->seaborn) (1.15.0)\n",
      "Requirement already satisfied: matplotlib in c:\\users\\josso\\anaconda3\\lib\\site-packages (3.3.2)\n",
      "Requirement already satisfied: pillow>=6.2.0 in c:\\users\\josso\\anaconda3\\lib\\site-packages (from matplotlib) (8.0.1)\n",
      "Requirement already satisfied: kiwisolver>=1.0.1 in c:\\users\\josso\\anaconda3\\lib\\site-packages (from matplotlib) (1.3.0)\n",
      "Requirement already satisfied: cycler>=0.10 in c:\\users\\josso\\anaconda3\\lib\\site-packages (from matplotlib) (0.10.0)\n",
      "Requirement already satisfied: certifi>=2020.06.20 in c:\\users\\josso\\anaconda3\\lib\\site-packages (from matplotlib) (2020.6.20)\n",
      "Requirement already satisfied: python-dateutil>=2.1 in c:\\users\\josso\\anaconda3\\lib\\site-packages (from matplotlib) (2.8.1)\n",
      "Requirement already satisfied: numpy>=1.15 in c:\\users\\josso\\anaconda3\\lib\\site-packages (from matplotlib) (1.19.2)\n",
      "Requirement already satisfied: pyparsing!=2.0.4,!=2.1.2,!=2.1.6,>=2.0.3 in c:\\users\\josso\\anaconda3\\lib\\site-packages (from matplotlib) (2.4.7)\n",
      "Requirement already satisfied: six in c:\\users\\josso\\anaconda3\\lib\\site-packages (from cycler>=0.10->matplotlib) (1.15.0)\n",
      "Requirement already satisfied: panda in c:\\users\\josso\\anaconda3\\lib\\site-packages (0.3.1)\n",
      "Requirement already satisfied: requests in c:\\users\\josso\\anaconda3\\lib\\site-packages (from panda) (2.24.0)\n",
      "Requirement already satisfied: setuptools in c:\\users\\josso\\anaconda3\\lib\\site-packages (from panda) (50.3.1.post20201107)\n",
      "Requirement already satisfied: chardet<4,>=3.0.2 in c:\\users\\josso\\anaconda3\\lib\\site-packages (from requests->panda) (3.0.4)\n",
      "Requirement already satisfied: urllib3!=1.25.0,!=1.25.1,<1.26,>=1.21.1 in c:\\users\\josso\\anaconda3\\lib\\site-packages (from requests->panda) (1.25.11)\n",
      "Requirement already satisfied: idna<3,>=2.5 in c:\\users\\josso\\anaconda3\\lib\\site-packages (from requests->panda) (2.10)\n",
      "Requirement already satisfied: certifi>=2017.4.17 in c:\\users\\josso\\anaconda3\\lib\\site-packages (from requests->panda) (2020.6.20)\n",
      "Requirement already satisfied: requests in c:\\users\\josso\\anaconda3\\lib\\site-packages (2.24.0)\n",
      "Requirement already satisfied: certifi>=2017.4.17 in c:\\users\\josso\\anaconda3\\lib\\site-packages (from requests) (2020.6.20)\n",
      "Requirement already satisfied: urllib3!=1.25.0,!=1.25.1,<1.26,>=1.21.1 in c:\\users\\josso\\anaconda3\\lib\\site-packages (from requests) (1.25.11)\n",
      "Requirement already satisfied: idna<3,>=2.5 in c:\\users\\josso\\anaconda3\\lib\\site-packages (from requests) (2.10)\n",
      "Requirement already satisfied: chardet<4,>=3.0.2 in c:\\users\\josso\\anaconda3\\lib\\site-packages (from requests) (3.0.4)\n",
      "Requirement already satisfied: numpy in c:\\users\\josso\\anaconda3\\lib\\site-packages (1.19.2)\n"
     ]
    }
   ],
   "source": [
    "!pip install covid\n",
    "!pip install seaborn\n",
    "!pip install matplotlib\n",
    "!pip install panda\n",
    "!pip install requests\n",
    "!pip install numpy"
   ]
  },
  {
   "cell_type": "code",
   "execution_count": 3,
   "metadata": {},
   "outputs": [],
   "source": [
    "from covid import Covid\n",
    "import matplotlib.pyplot as plt\n",
    "import seaborn as sns\n",
    "import numpy as np\n",
    "import pandas as pd\n",
    "covid = Covid()"
   ]
  },
  {
   "cell_type": "code",
   "execution_count": 4,
   "metadata": {},
   "outputs": [],
   "source": [
    "# initializing integers to work with data\n",
    "confirmed_cases = covid.get_total_confirmed_cases()\n",
    "active_cases = covid.get_total_active_cases()\n",
    "recovered_cases = covid.get_total_recovered()\n",
    "total_deaths = covid.get_total_deaths()"
   ]
  },
  {
   "cell_type": "code",
   "execution_count": 5,
   "metadata": {},
   "outputs": [],
   "source": [
    "#Using global data to calculate more data\n",
    "active_percentage = (active_cases/confirmed_cases) * 100\n",
    "recovered_percentage = (recovered_cases/confirmed_cases) * 100\n",
    "died_percentage = (total_deaths/confirmed_cases) * 100"
   ]
  },
  {
   "cell_type": "code",
   "execution_count": 6,
   "metadata": {},
   "outputs": [
    {
     "output_type": "stream",
     "name": "stdout",
     "text": [
      "Total confirmed cases in world: 106533071\nTotal active cases in world: 44734741\nTotal recovered cases in world: 59471099\nTotal deaths in world: 2327231\n\nPercentage of cases active is: 41.99141222541121%\nPercentage of patients dying is: 2.184515078890385%\nPercentage of patients recovered is: 55.82407269569841%\n"
     ]
    }
   ],
   "source": [
    "# Printing global data\n",
    "print(\"Total confirmed cases in world:\", confirmed_cases)\n",
    "print(\"Total active cases in world:\", active_cases)\n",
    "print(\"Total recovered cases in world:\", recovered_cases)\n",
    "print(\"Total deaths in world:\", total_deaths)\n",
    "print(\"\")\n",
    "print(\"Percentage of cases active is: \" + str(active_percentage) + \"%\")\n",
    "print(\"Percentage of patients dying is: \" + str(died_percentage) + \"%\")\n",
    "print(\"Percentage of patients recovered is: \" + str(recovered_percentage) + \"%\")"
   ]
  },
  {
   "cell_type": "code",
   "execution_count": 9,
   "metadata": {},
   "outputs": [],
   "source": [
    "#Generate integers for different countries\n",
    "country_name_nl = covid.get_status_by_country_name(\"Netherlands\").get(\"country\")\n",
    "country_conf_nl = covid.get_status_by_country_name(\"Netherlands\").get(\"confirmed\")\n",
    "country_name_be = covid.get_status_by_country_name(\"Belgium\").get(\"country\")\n",
    "country_conf_be = covid.get_status_by_country_name(\"Belgium\").get(\"confirmed\")\n",
    "country_name_ge = covid.get_status_by_country_name(\"Germany\").get(\"country\")\n",
    "country_conf_ge = covid.get_status_by_country_name(\"Germany\").get(\"confirmed\")\n",
    "country_name_fr = covid.get_status_by_country_name(\"France\").get(\"country\")\n",
    "country_conf_fr = covid.get_status_by_country_name(\"France\").get(\"confirmed\")\n",
    "country_name_uk = covid.get_status_by_country_name(\"United Kingdom\").get(\"country\")\n",
    "country_conf_uk = covid.get_status_by_country_name(\"United Kingdom\").get(\"confirmed\")\n",
    "country_name_lu = covid.get_status_by_country_name(\"Luxembourg\").get(\"country\")\n",
    "country_conf_lu = covid.get_status_by_country_name(\"Luxembourg\").get(\"confirmed\")\n",
    "\n",
    "#Generate death toll per country\n",
    "country_dea_nl = covid.get_status_by_country_name(\"Netherlands\").get(\"confirmed\")\n",
    "country_dea_be = covid.get_status_by_country_name(\"Belgium\").get(\"confirmed\")\n",
    "country_dea_ge = covid.get_status_by_country_name(\"Germany\").get(\"confirmed\")\n",
    "country_dea_fr = covid.get_status_by_country_name(\"France\").get(\"confirmed\")\n",
    "country_dea_uk = covid.get_status_by_country_name(\"United Kingdom\").get(\"confirmed\")\n",
    "country_dea_lu = covid.get_status_by_country_name(\"Luxembourg\").get(\"confirmed\")\n",
    "\n",
    "#Fill the country numpy array with country name data\n",
    "empty_array = np.array([])\n",
    "country_array = np.append(empty_array, country_name_nl)\n",
    "country_array = np.append(country_array, country_name_be)\n",
    "country_array = np.append(country_array, country_name_ge)\n",
    "country_array = np.append(country_array, country_name_fr)\n",
    "country_array = np.append(country_array, country_name_uk)\n",
    "country_array = np.append(country_array, country_name_lu)\n",
    "\n",
    "#Fill the confirmed cases array with country confirmed cases data\n",
    "empty_array = np.array([])\n",
    "conf_array = np.append(empty_array, country_conf_nl)\n",
    "conf_array = np.append(conf_array, country_conf_be)\n",
    "conf_array = np.append(conf_array, country_conf_ge)\n",
    "conf_array = np.append(conf_array, country_conf_fr)\n",
    "conf_array = np.append(conf_array, country_conf_uk)\n",
    "conf_array = np.append(conf_array, country_conf_lu)\n",
    "\n",
    "#Fill the death cases array with country death cases data\n",
    "empty_array = np.array([])\n",
    "dea_array = np.append(empty_array, country_dea_nl)\n",
    "dea_array = np.append(dea_array, country_dea_be)\n",
    "dea_array = np.append(dea_array, country_dea_ge)\n",
    "dea_array = np.append(dea_array, country_dea_fr)\n",
    "dea_array = np.append(dea_array, country_dea_uk)\n",
    "dea_array = np.append(dea_array, country_dea_lu)"
   ]
  },
  {
   "cell_type": "code",
   "execution_count": 8,
   "metadata": {},
   "outputs": [
    {
     "output_type": "error",
     "ename": "NameError",
     "evalue": "name 'conf_array' is not defined",
     "traceback": [
      "\u001b[1;31m---------------------------------------------------------------------------\u001b[0m",
      "\u001b[1;31mNameError\u001b[0m                                 Traceback (most recent call last)",
      "\u001b[1;32m<ipython-input-8-efc669a6aeb9>\u001b[0m in \u001b[0;36m<module>\u001b[1;34m\u001b[0m\n\u001b[0;32m      5\u001b[0m \u001b[0mplt\u001b[0m\u001b[1;33m.\u001b[0m\u001b[0mfigure\u001b[0m\u001b[1;33m(\u001b[0m\u001b[0mfigsize\u001b[0m\u001b[1;33m=\u001b[0m\u001b[1;33m(\u001b[0m\u001b[1;36m9\u001b[0m\u001b[1;33m,\u001b[0m \u001b[1;36m6\u001b[0m\u001b[1;33m)\u001b[0m\u001b[1;33m)\u001b[0m\u001b[1;33m\u001b[0m\u001b[1;33m\u001b[0m\u001b[0m\n\u001b[0;32m      6\u001b[0m \u001b[1;33m\u001b[0m\u001b[0m\n\u001b[1;32m----> 7\u001b[1;33m \u001b[0mdata\u001b[0m \u001b[1;33m=\u001b[0m \u001b[0mpd\u001b[0m\u001b[1;33m.\u001b[0m\u001b[0mDataFrame\u001b[0m\u001b[1;33m(\u001b[0m\u001b[0mcountry_array\u001b[0m\u001b[1;33m,\u001b[0m \u001b[0mconf_array\u001b[0m\u001b[1;33m)\u001b[0m\u001b[1;33m\u001b[0m\u001b[1;33m\u001b[0m\u001b[0m\n\u001b[0m\u001b[0;32m      8\u001b[0m \u001b[0max\u001b[0m \u001b[1;33m=\u001b[0m \u001b[0msns\u001b[0m\u001b[1;33m.\u001b[0m\u001b[0mbarplot\u001b[0m\u001b[1;33m(\u001b[0m\u001b[0mx\u001b[0m\u001b[1;33m=\u001b[0m\u001b[0mcountry_array\u001b[0m\u001b[1;33m,\u001b[0m \u001b[0my\u001b[0m\u001b[1;33m=\u001b[0m\u001b[0mconf_array\u001b[0m\u001b[1;33m,\u001b[0m \u001b[0mdata\u001b[0m\u001b[1;33m=\u001b[0m\u001b[0mdata\u001b[0m\u001b[1;33m)\u001b[0m\u001b[1;33m\u001b[0m\u001b[1;33m\u001b[0m\u001b[0m\n\u001b[0;32m      9\u001b[0m \u001b[0max\u001b[0m\u001b[1;33m.\u001b[0m\u001b[0mset\u001b[0m\u001b[1;33m(\u001b[0m\u001b[0mxlabel\u001b[0m\u001b[1;33m=\u001b[0m\u001b[1;34m\"Country\"\u001b[0m\u001b[1;33m,\u001b[0m \u001b[0mylabel\u001b[0m \u001b[1;33m=\u001b[0m \u001b[1;34m\"Million cases\"\u001b[0m\u001b[1;33m)\u001b[0m\u001b[1;33m\u001b[0m\u001b[1;33m\u001b[0m\u001b[0m\n",
      "\u001b[1;31mNameError\u001b[0m: name 'conf_array' is not defined"
     ]
    }
   ],
   "source": [
    "#Plot cases per country\n",
    "sns.set_theme(style=\"darkgrid\")\n",
    "\n",
    "# set the plot figure size\n",
    "plt.figure(figsize=(9, 6))\n",
    "\n",
    "data = pd.DataFrame(country_array, conf_array)\n",
    "ax = sns.barplot(x=country_array, y=conf_array, data=data)\n",
    "ax.set(xlabel=\"Country\", ylabel = \"Million cases\")\n",
    "plt.title(\"Cases per Country\")\n",
    "plt.tight_layout() \n",
    "\n",
    "data_d = pd.DataFrame(country_array, dea_array)\n",
    "ax = sns.barplot(x=country_array, y=conf_dea, data=data_d)\n",
    "ax.set(xlabel=\"Country\", ylabel = \"Million deaths\")\n",
    "plt.title(\"Cases per Country\")\n",
    "plt.tight_layout() "
   ]
  },
  {
   "cell_type": "code",
   "execution_count": null,
   "metadata": {},
   "outputs": [],
   "source": []
  }
 ],
 "metadata": {
  "kernelspec": {
   "display_name": "Python 3",
   "language": "python",
   "name": "python3"
  },
  "language_info": {
   "codemirror_mode": {
    "name": "ipython",
    "version": 3
   },
   "file_extension": ".py",
   "mimetype": "text/x-python",
   "name": "python",
   "nbconvert_exporter": "python",
   "pygments_lexer": "ipython3",
   "version": "3.8.5-final"
  }
 },
 "nbformat": 4,
 "nbformat_minor": 4
}